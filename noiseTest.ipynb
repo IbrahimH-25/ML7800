{
 "cells": [
  {
   "cell_type": "code",
   "execution_count": 1,
   "metadata": {},
   "outputs": [
    {
     "data": {
      "text/plain": [
       "True"
      ]
     },
     "execution_count": 1,
     "metadata": {},
     "output_type": "execute_result"
    }
   ],
   "source": [
    "import cv2\n",
    "import numpy as np\n",
    "\n",
    "def add_gaussian_noise(image, mean=0, sigma=25):\n",
    "\n",
    "    row, col, ch = image.shape\n",
    "    gauss = np.random.normal(mean, sigma, (row, col, ch))\n",
    "    noisy_image = image + gauss\n",
    "    noisy_image = np.clip(noisy_image, 0, 255).astype(np.uint8)\n",
    "    return noisy_image\n",
    "\n",
    "# Load an image\n",
    "url = 'inputImages/CRW_MY23_0010_V001_tn_xPH5olEsW2C1e8s.jpeg'\n",
    "image = cv2.imread(url)\n",
    "\n",
    "# Apply Gaussian noise\n",
    "noisy_image = add_gaussian_noise(image)\n",
    "\n",
    "# Display original and noisy images\n",
    "cv2.imshow('Original Image', image)\n",
    "cv2.imshow('Noisy Image', noisy_image)\n",
    "cv2.waitKey(0)\n",
    "cv2.destroyAllWindows()\n",
    "cv2.imwrite('outputImages\\personalNoise.jpg',noisy_image)\n"
   ]
  }
 ],
 "metadata": {
  "kernelspec": {
   "display_name": "Python 3",
   "language": "python",
   "name": "python3"
  },
  "language_info": {
   "codemirror_mode": {
    "name": "ipython",
    "version": 3
   },
   "file_extension": ".py",
   "mimetype": "text/x-python",
   "name": "python",
   "nbconvert_exporter": "python",
   "pygments_lexer": "ipython3",
   "version": "3.11.3"
  }
 },
 "nbformat": 4,
 "nbformat_minor": 2
}
